{
  "nbformat": 4,
  "nbformat_minor": 0,
  "metadata": {
    "colab": {
      "provenance": [],
      "authorship_tag": "ABX9TyN7R4ntR6uoxqCXID8O9vuY",
      "include_colab_link": true
    },
    "kernelspec": {
      "name": "python3",
      "display_name": "Python 3"
    },
    "language_info": {
      "name": "python"
    }
  },
  "cells": [
    {
      "cell_type": "markdown",
      "metadata": {
        "id": "view-in-github",
        "colab_type": "text"
      },
      "source": [
        "<a href=\"https://colab.research.google.com/github/ManoSoraDev/First-Python-Exercise/blob/main/PythonExercises.ipynb\" target=\"_parent\"><img src=\"https://colab.research.google.com/assets/colab-badge.svg\" alt=\"Open In Colab\"/></a>"
      ]
    },
    {
      "cell_type": "code",
      "execution_count": null,
      "metadata": {
        "colab": {
          "base_uri": "https://localhost:8080/"
        },
        "id": "hun5Q_HdeB3u",
        "outputId": "d6b1392b-38d5-4c8b-b130-98ff6873f969"
      },
      "outputs": [
        {
          "output_type": "stream",
          "name": "stdout",
          "text": [
            "Digite valor em graus Fahrenheit: 50\n",
            "O valor de 50.0°F em graus Celsius: 10.0\n"
          ]
        }
      ],
      "source": [
        "F = float(input(\"Digite valor em graus Fahrenheit: \"))\n",
        "C = (5/9) * (F - 32)\n",
        "print(f\"O valor de {F}°F em graus Celsius: {C}\")"
      ]
    },
    {
      "cell_type": "code",
      "source": [
        "P = float(input(\"Digite valor em polegadas: \"))\n",
        "MM = P * 25.4\n",
        "print(f\"O valor de {P}pol corresponde a {MM}mm\")"
      ],
      "metadata": {
        "colab": {
          "base_uri": "https://localhost:8080/"
        },
        "id": "MqPzkmQdj8ts",
        "outputId": "5b3db6e5-46b7-4bb7-8720-54548f896468"
      },
      "execution_count": null,
      "outputs": [
        {
          "output_type": "stream",
          "name": "stdout",
          "text": [
            "Digite valor em polegadas: 50\n",
            "O valor de 50.0pol corresponde a 1270.0mm\n"
          ]
        }
      ]
    },
    {
      "cell_type": "code",
      "source": [
        "MM = float(input(\"Digite valor em milímetros: \"))\n",
        "P = MM / 25.4\n",
        "print(f\"O valor de {MM}mm corresponde a {P:.2f}pol\")"
      ],
      "metadata": {
        "id": "k0kVdCudlmUW"
      },
      "execution_count": null,
      "outputs": []
    },
    {
      "cell_type": "code",
      "source": [
        "idade = int(input(\"Digite sua idade: \"))\n",
        "if (idade >= 16 and idade < 70):\n",
        "  print(\"Pode votar.\")\n",
        "else:\n",
        "  print(\"Não pode votar.\")"
      ],
      "metadata": {
        "colab": {
          "base_uri": "https://localhost:8080/"
        },
        "id": "XvfuAxtZmiPX",
        "outputId": "189c943f-d16f-474d-be44-79d99c2d20bd"
      },
      "execution_count": null,
      "outputs": [
        {
          "output_type": "stream",
          "name": "stdout",
          "text": [
            "Digite sua idade: 20\n",
            "Pode votar.\n"
          ]
        }
      ]
    },
    {
      "cell_type": "markdown",
      "source": [],
      "metadata": {
        "id": "nb94iIQ9fYGV"
      }
    },
    {
      "cell_type": "code",
      "source": [
        "PI = float(3.14159265358979323846)\n",
        "r = float(input(\"Insira o raio: \"))\n",
        "v = (4/3) * PI * (r**3)\n",
        "print(f\"Volume = {v}\")"
      ],
      "metadata": {
        "colab": {
          "base_uri": "https://localhost:8080/"
        },
        "id": "8lLoocwXoayo",
        "outputId": "56efac2e-1972-495a-ca3b-9f81e5775416"
      },
      "execution_count": null,
      "outputs": [
        {
          "output_type": "stream",
          "name": "stdout",
          "text": [
            "Insira o raio: 10\n",
            "Volume = 4188.790204786391\n"
          ]
        }
      ]
    },
    {
      "cell_type": "code",
      "source": [
        "PI = float(3.14159265358979323846)\n",
        "ang = float(input(\"Insira um ângulo em graus: \"))\n",
        "r = ang * PI / 180\n",
        "print(f\"Valor de {ang} graus em radianos: {r:.3f}\")"
      ],
      "metadata": {
        "colab": {
          "base_uri": "https://localhost:8080/"
        },
        "id": "zEeN2pTurR2I",
        "outputId": "c55b3783-b2ac-4e87-d1f1-c8e729cd076f"
      },
      "execution_count": null,
      "outputs": [
        {
          "output_type": "stream",
          "name": "stdout",
          "text": [
            "Insira um ângulo em graus: 100\n",
            "Valor de 100.0° em radianos: 1.745\n"
          ]
        }
      ]
    },
    {
      "cell_type": "code",
      "source": [
        "PI = float(3.14159265358979323846)\n",
        "r = float(input(\"Insira um ângulo em radianos: \"))\n",
        "ang = r * 180 / PI\n",
        "print(f\"Valor de {r} radianos em graus: {ang:.3f}\")"
      ],
      "metadata": {
        "id": "IlZRWUcewHRd",
        "colab": {
          "base_uri": "https://localhost:8080/"
        },
        "outputId": "b597b041-f252-4859-dcab-8015d15f7d50"
      },
      "execution_count": null,
      "outputs": [
        {
          "output_type": "stream",
          "name": "stdout",
          "text": [
            "Insira um ângulo em graus: 1.74533\n",
            "Valor de 1.74533 radianos em graus: 100.000\n"
          ]
        }
      ]
    },
    {
      "cell_type": "code",
      "source": [
        "PI = float(3.14159265358979323846)\n",
        "r = float(input(\"Insira um ângulo em radianos: \"))\n",
        "gr = 400 * r / (2 * PI)\n",
        "print(f\"Valor de {r} radianos em grados: {gr:.3f}\")"
      ],
      "metadata": {
        "colab": {
          "base_uri": "https://localhost:8080/"
        },
        "id": "79WV3bBnRTtG",
        "outputId": "7fec9369-c6e2-4193-cfb8-e70fd1673b76"
      },
      "execution_count": null,
      "outputs": [
        {
          "output_type": "stream",
          "name": "stdout",
          "text": [
            "Insira um ângulo em radianos: 1\n",
            "Valor de 1.0 radianos em grados: 63.662\n"
          ]
        }
      ]
    }
  ]
}